{
 "cells": [
  {
   "cell_type": "markdown",
   "id": "19d6a15c",
   "metadata": {},
   "source": [
    "<img src=\"https://miro.medium.com/max/765/1*cyXCE-JcBelTyrK-58w6_Q.png\" alt=\"350\" width=\"400\" align=\"left\"/>"
   ]
  },
  {
   "cell_type": "markdown",
   "id": "26b2a0b9",
   "metadata": {},
   "source": [
    "# NUMPY LIBRARY TUTORIAL\n",
    "***By Loris Liusso***\n",
    "\n"
   ]
  },
  {
   "cell_type": "markdown",
   "id": "7b79927d",
   "metadata": {},
   "source": [
    "<h2> What is NumPy? </h2>\n",
    "\n",
    "<ul>\n",
    "\n",
    "<li>NumPy is a Python library used for working with arrays.</li>\n",
    "\n",
    "<li>It also has functions for working in domain of linear algebra, fourier transform, and matrices.</li>\n",
    "\n",
    "<li>NumPy was created in 2005 by Travis Oliphant. It is an open source project and you can use it freely.</li>\n",
    "\n",
    "<li>NumPy stands for Numerical Python.</li>\n",
    "<li>NumPy is a Python library and is written partially in Python, but most of the parts that require fast computation are written in C or C++.</li>\n",
    "</ul>"
   ]
  },
  {
   "cell_type": "markdown",
   "id": "609abc17",
   "metadata": {},
   "source": [
    "<h2>Why Use NumPy?</h2>\n",
    "<ul>\n",
    "<li>In Python we have lists that serve the purpose of arrays, but they are slow to process.</li>\n",
    "\n",
    "<li>NumPy aims to provide an array object that is up to 50x faster than traditional Python lists.</li>\n",
    "\n",
    "<li>The array object in NumPy is called ndarray, it provides a lot of supporting functions that make working with ndarray very easy.</li>\n",
    "\n",
    "<li>Arrays are very frequently used in data science, where speed and resources are very important.</li>\n",
    "</ul>"
   ]
  },
  {
   "cell_type": "markdown",
   "id": "dee148d3",
   "metadata": {},
   "source": [
    "## Numpy Ndarray"
   ]
  },
  {
   "cell_type": "markdown",
   "id": "e5f4ad00",
   "metadata": {},
   "source": [
    "<img src=\"https://miro.medium.com/max/831/1*R0wH6D43-rzG7ivvEhSFkA.png\" alt=\"500\" width=\"600\" align=\"left\"/>"
   ]
  },
  {
   "cell_type": "code",
   "execution_count": 1,
   "id": "a6ddd449",
   "metadata": {},
   "outputs": [],
   "source": [
    "import numpy as np #import numpy library"
   ]
  },
  {
   "cell_type": "code",
   "execution_count": 2,
   "id": "747cc835",
   "metadata": {},
   "outputs": [],
   "source": [
    "arr_1d= np.array([1, 2, 3, 4, 5]) #1d array\n",
    "\n",
    "arr_2d = np.array([[1, 2, 3, 4], \n",
    "                   [5, 6, 7, 8],\n",
    "                   [9, 10, 11, 12]]) #2d array -> matrix"
   ]
  },
  {
   "cell_type": "code",
   "execution_count": 3,
   "id": "ecb87174",
   "metadata": {},
   "outputs": [
    {
     "name": "stdout",
     "output_type": "stream",
     "text": [
      "[1 2 3 4 5]\n"
     ]
    }
   ],
   "source": [
    "print(arr_1d)"
   ]
  },
  {
   "cell_type": "code",
   "execution_count": 4,
   "id": "38777393",
   "metadata": {},
   "outputs": [
    {
     "name": "stdout",
     "output_type": "stream",
     "text": [
      "[[ 1  2  3  4]\n",
      " [ 5  6  7  8]\n",
      " [ 9 10 11 12]]\n"
     ]
    }
   ],
   "source": [
    "print(arr_2d)"
   ]
  },
  {
   "cell_type": "markdown",
   "id": "30e3cb71",
   "metadata": {},
   "source": [
    "**1D Array Operations:**"
   ]
  },
  {
   "cell_type": "code",
   "execution_count": 5,
   "id": "93b85a2e",
   "metadata": {},
   "outputs": [],
   "source": [
    "arr_1d= np.array([1, 2, 3, 4, 5]) #1d array"
   ]
  },
  {
   "cell_type": "code",
   "execution_count": 6,
   "id": "ec116260",
   "metadata": {},
   "outputs": [
    {
     "data": {
      "text/plain": [
       "1"
      ]
     },
     "execution_count": 6,
     "metadata": {},
     "output_type": "execute_result"
    }
   ],
   "source": [
    "arr_1d.ndim #1d array -> 1 dimension"
   ]
  },
  {
   "cell_type": "code",
   "execution_count": 7,
   "id": "c4a999b3",
   "metadata": {},
   "outputs": [
    {
     "data": {
      "text/plain": [
       "5"
      ]
     },
     "execution_count": 7,
     "metadata": {},
     "output_type": "execute_result"
    }
   ],
   "source": [
    "arr_1d.size #number of elements"
   ]
  },
  {
   "cell_type": "code",
   "execution_count": 11,
   "id": "d78eb4c6",
   "metadata": {},
   "outputs": [
    {
     "data": {
      "text/plain": [
       "1"
      ]
     },
     "execution_count": 11,
     "metadata": {},
     "output_type": "execute_result"
    }
   ],
   "source": [
    "arr_1d.min()"
   ]
  },
  {
   "cell_type": "code",
   "execution_count": 12,
   "id": "9e2239a0",
   "metadata": {},
   "outputs": [
    {
     "data": {
      "text/plain": [
       "5"
      ]
     },
     "execution_count": 12,
     "metadata": {},
     "output_type": "execute_result"
    }
   ],
   "source": [
    "arr_1d.max()"
   ]
  },
  {
   "cell_type": "code",
   "execution_count": 13,
   "id": "2f933e54",
   "metadata": {},
   "outputs": [
    {
     "data": {
      "text/plain": [
       "15"
      ]
     },
     "execution_count": 13,
     "metadata": {},
     "output_type": "execute_result"
    }
   ],
   "source": [
    "arr_1d.sum()"
   ]
  },
  {
   "cell_type": "code",
   "execution_count": 14,
   "id": "f1c271c1",
   "metadata": {},
   "outputs": [
    {
     "data": {
      "text/plain": [
       "array([0, 1, 2, 3])"
      ]
     },
     "execution_count": 14,
     "metadata": {},
     "output_type": "execute_result"
    }
   ],
   "source": [
    "np.arange(4) #array with range of numbers [0,4(not included)]"
   ]
  },
  {
   "cell_type": "code",
   "execution_count": 15,
   "id": "140d9129",
   "metadata": {},
   "outputs": [
    {
     "data": {
      "text/plain": [
       "array([ 0,  2,  4,  6,  8, 10])"
      ]
     },
     "execution_count": 15,
     "metadata": {},
     "output_type": "execute_result"
    }
   ],
   "source": [
    "np.arange(0,11,2) #stepover"
   ]
  },
  {
   "cell_type": "code",
   "execution_count": 20,
   "id": "232b1057",
   "metadata": {},
   "outputs": [
    {
     "data": {
      "text/plain": [
       "array([ 0,  2,  5,  7, 10])"
      ]
     },
     "execution_count": 20,
     "metadata": {},
     "output_type": "execute_result"
    }
   ],
   "source": [
    "#Return evenly spaced numbers over a specified interval:\n",
    "\n",
    "np.linspace(0, 10, 5, dtype=int) #(stop number included in this case)"
   ]
  },
  {
   "cell_type": "markdown",
   "id": "56394d46",
   "metadata": {},
   "source": [
    "**2D Array Operations (MATRIX):**"
   ]
  },
  {
   "cell_type": "code",
   "execution_count": 21,
   "id": "a5e76684",
   "metadata": {},
   "outputs": [],
   "source": [
    "arr_2d = np.array([[1, 2, 3, 4], \n",
    "                   [5, 6, 7, 8],\n",
    "                   [9, 10, 11, 12]]) #2d array -> matrix"
   ]
  },
  {
   "cell_type": "code",
   "execution_count": 23,
   "id": "e66fa00b",
   "metadata": {},
   "outputs": [
    {
     "data": {
      "text/plain": [
       "2"
      ]
     },
     "execution_count": 23,
     "metadata": {},
     "output_type": "execute_result"
    }
   ],
   "source": [
    "arr_2d.ndim #2d array (matrix) -> 2 dimensions"
   ]
  },
  {
   "cell_type": "code",
   "execution_count": 26,
   "id": "bb3d3c1c",
   "metadata": {},
   "outputs": [
    {
     "data": {
      "text/plain": [
       "12"
      ]
     },
     "execution_count": 26,
     "metadata": {},
     "output_type": "execute_result"
    }
   ],
   "source": [
    "arr_2d.size #number of elements"
   ]
  },
  {
   "cell_type": "code",
   "execution_count": 28,
   "id": "589d5a82",
   "metadata": {},
   "outputs": [
    {
     "data": {
      "text/plain": [
       "(3, 4)"
      ]
     },
     "execution_count": 28,
     "metadata": {},
     "output_type": "execute_result"
    }
   ],
   "source": [
    "arr_2d.shape #m rows, n columns (mxn)"
   ]
  },
  {
   "cell_type": "code",
   "execution_count": 30,
   "id": "7009043e",
   "metadata": {},
   "outputs": [
    {
     "data": {
      "text/plain": [
       "1"
      ]
     },
     "execution_count": 30,
     "metadata": {},
     "output_type": "execute_result"
    }
   ],
   "source": [
    "arr_2d.min()"
   ]
  },
  {
   "cell_type": "code",
   "execution_count": 31,
   "id": "4cd26108",
   "metadata": {},
   "outputs": [
    {
     "data": {
      "text/plain": [
       "12"
      ]
     },
     "execution_count": 31,
     "metadata": {},
     "output_type": "execute_result"
    }
   ],
   "source": [
    "arr_2d.max()"
   ]
  },
  {
   "cell_type": "code",
   "execution_count": 32,
   "id": "3bb966c8",
   "metadata": {},
   "outputs": [
    {
     "data": {
      "text/plain": [
       "78"
      ]
     },
     "execution_count": 32,
     "metadata": {},
     "output_type": "execute_result"
    }
   ],
   "source": [
    "arr_2d.sum()"
   ]
  },
  {
   "cell_type": "markdown",
   "id": "5ede017d",
   "metadata": {},
   "source": [
    "**Access Items:**"
   ]
  },
  {
   "cell_type": "markdown",
   "id": "fc7c2a47",
   "metadata": {},
   "source": [
    "<img src=\"https://numpy.org/doc/stable/_images/np_matrix_indexing.png\" alt=\"600\" width=\"700\" align=\"left\"/>"
   ]
  },
  {
   "cell_type": "code",
   "execution_count": null,
   "id": "6cdc0e5f",
   "metadata": {},
   "outputs": [],
   "source": [
    "arr_2d = np.array([[1, 2, 3, 4], \n",
    "                   [5, 6, 7, 8],\n",
    "                   [9, 10, 11, 12]]) #2d array -> matrix"
   ]
  },
  {
   "cell_type": "code",
   "execution_count": 33,
   "id": "3be8d690",
   "metadata": {},
   "outputs": [
    {
     "data": {
      "text/plain": [
       "1"
      ]
     },
     "execution_count": 33,
     "metadata": {},
     "output_type": "execute_result"
    }
   ],
   "source": [
    "#First element: first row/column (1)\n",
    "\n",
    "arr_2d[0,0] # [row index, col index]"
   ]
  },
  {
   "cell_type": "code",
   "execution_count": 34,
   "id": "bff87ada",
   "metadata": {},
   "outputs": [
    {
     "data": {
      "text/plain": [
       "array([1, 2, 3, 4])"
      ]
     },
     "execution_count": 34,
     "metadata": {},
     "output_type": "execute_result"
    }
   ],
   "source": [
    "#Only first row\n",
    "\n",
    "arr_2d[0, :] # same thing -> arr_2d[0]"
   ]
  },
  {
   "cell_type": "code",
   "execution_count": 35,
   "id": "9a325d95",
   "metadata": {},
   "outputs": [
    {
     "data": {
      "text/plain": [
       "array([1, 5, 9])"
      ]
     },
     "execution_count": 35,
     "metadata": {},
     "output_type": "execute_result"
    }
   ],
   "source": [
    "#Only first column\n",
    "\n",
    "arr_2d[:,0]"
   ]
  },
  {
   "cell_type": "markdown",
   "id": "b883ff39",
   "metadata": {},
   "source": [
    "**Useful Numpy Functions:**"
   ]
  },
  {
   "cell_type": "markdown",
   "id": "a7ff73d5",
   "metadata": {},
   "source": [
    "<img src=\"https://numpy.org/doc/stable/_images/np_ones_zeros_matrix.png\" width=\"700\" align=\"left\"/>"
   ]
  },
  {
   "cell_type": "code",
   "execution_count": 36,
   "id": "f28713ae",
   "metadata": {},
   "outputs": [
    {
     "data": {
      "text/plain": [
       "array([0., 0.])"
      ]
     },
     "execution_count": 36,
     "metadata": {},
     "output_type": "execute_result"
    }
   ],
   "source": [
    "np.zeros(2) #1D  -> float numbers by default"
   ]
  },
  {
   "cell_type": "code",
   "execution_count": 37,
   "id": "17486230",
   "metadata": {},
   "outputs": [
    {
     "data": {
      "text/plain": [
       "array([0, 0])"
      ]
     },
     "execution_count": 37,
     "metadata": {},
     "output_type": "execute_result"
    }
   ],
   "source": [
    "np.zeros(2, dtype=int) #with integer numbers"
   ]
  },
  {
   "cell_type": "code",
   "execution_count": 39,
   "id": "47dba569",
   "metadata": {},
   "outputs": [
    {
     "data": {
      "text/plain": [
       "array([[0., 0.],\n",
       "       [0., 0.]])"
      ]
     },
     "execution_count": 39,
     "metadata": {},
     "output_type": "execute_result"
    }
   ],
   "source": [
    "np.zeros((2,2)) #2D MATRIX"
   ]
  },
  {
   "cell_type": "code",
   "execution_count": 42,
   "id": "32609713",
   "metadata": {},
   "outputs": [
    {
     "data": {
      "text/plain": [
       "array([1., 1.])"
      ]
     },
     "execution_count": 42,
     "metadata": {},
     "output_type": "execute_result"
    }
   ],
   "source": [
    "np.ones(2) #1D"
   ]
  },
  {
   "cell_type": "code",
   "execution_count": 43,
   "id": "5717a12d",
   "metadata": {},
   "outputs": [
    {
     "data": {
      "text/plain": [
       "array([[1., 1.],\n",
       "       [1., 1.]])"
      ]
     },
     "execution_count": 43,
     "metadata": {},
     "output_type": "execute_result"
    }
   ],
   "source": [
    "np.ones((2,2)) #2D MATRIX"
   ]
  },
  {
   "cell_type": "code",
   "execution_count": 46,
   "id": "2a8e1cef",
   "metadata": {},
   "outputs": [
    {
     "data": {
      "text/plain": [
       "array([0.82951774, 0.56115871, 0.53010628])"
      ]
     },
     "execution_count": 46,
     "metadata": {},
     "output_type": "execute_result"
    }
   ],
   "source": [
    "np.random.random(3) #1D -> Return random floats in the half-open interval [0.0, 1.0]"
   ]
  },
  {
   "cell_type": "code",
   "execution_count": 47,
   "id": "cd6e6a49",
   "metadata": {},
   "outputs": [
    {
     "data": {
      "text/plain": [
       "array([[0.15644961, 0.2991167 ],\n",
       "       [0.559936  , 0.51628567],\n",
       "       [0.81173459, 0.38051338]])"
      ]
     },
     "execution_count": 47,
     "metadata": {},
     "output_type": "execute_result"
    }
   ],
   "source": [
    "np.random.random((3,2)) #2D MATRIX"
   ]
  },
  {
   "cell_type": "markdown",
   "id": "407c5075",
   "metadata": {},
   "source": [
    "<img src=\"https://www.w3resource.com/w3r_images/numpy-array-eye-function-image-1-b.png\" width=\"200\" align=\"left\"/>"
   ]
  },
  {
   "cell_type": "code",
   "execution_count": 49,
   "id": "7fb85aae",
   "metadata": {},
   "outputs": [
    {
     "data": {
      "text/plain": [
       "array([[1., 0.],\n",
       "       [0., 1.]])"
      ]
     },
     "execution_count": 49,
     "metadata": {},
     "output_type": "execute_result"
    }
   ],
   "source": [
    "np.eye(2) #IDENTITY MATRIX 3x3"
   ]
  },
  {
   "cell_type": "markdown",
   "id": "d19a7045",
   "metadata": {},
   "source": [
    "**Reshape Array (modificare dimensioni): Gives a new shape to an array without changing its data.**"
   ]
  },
  {
   "cell_type": "markdown",
   "id": "76664048",
   "metadata": {},
   "source": [
    "<img src=\"https://numpy.org/doc/stable/_images/np_reshape.png\" width=\"600\" align=\"left\"/>"
   ]
  },
  {
   "cell_type": "code",
   "execution_count": null,
   "id": "6e791bbb",
   "metadata": {},
   "outputs": [],
   "source": [
    "arr_2d = np.array([[1, 2, 3, 4], \n",
    "                   [5, 6, 7, 8],\n",
    "                   [9, 10, 11, 12]]) #2D ARRAY 3X4"
   ]
  },
  {
   "cell_type": "code",
   "execution_count": 51,
   "id": "cc5711d8",
   "metadata": {},
   "outputs": [
    {
     "name": "stdout",
     "output_type": "stream",
     "text": [
      "[[ 1  2  3]\n",
      " [ 4  5  6]\n",
      " [ 7  8  9]\n",
      " [10 11 12]]\n"
     ]
    }
   ],
   "source": [
    "arr_2d_res = arr_2d.reshape(4,3) #2D ARRAY 4X3\n",
    "print(arr_2d_res)"
   ]
  },
  {
   "cell_type": "markdown",
   "id": "292bb520",
   "metadata": {},
   "source": [
    "**Boolean Indexing**:"
   ]
  },
  {
   "cell_type": "code",
   "execution_count": null,
   "id": "e3e9ad95",
   "metadata": {},
   "outputs": [],
   "source": [
    "arr_1d= np.array([1, 2, 3, 4, 5]) #1d array"
   ]
  },
  {
   "cell_type": "code",
   "execution_count": 65,
   "id": "42774081",
   "metadata": {},
   "outputs": [
    {
     "name": "stdout",
     "output_type": "stream",
     "text": [
      "[ True  True False False False]\n"
     ]
    }
   ],
   "source": [
    "print(arr_1d < 3) #RETURN BOOLEAN VALUES"
   ]
  },
  {
   "cell_type": "code",
   "execution_count": 66,
   "id": "928d83ab",
   "metadata": {},
   "outputs": [
    {
     "name": "stdout",
     "output_type": "stream",
     "text": [
      "[1 2]\n"
     ]
    }
   ],
   "source": [
    "print(arr_1d[arr_1d < 3]) #FILTER: RETURN ARRAY ELEMENTS THAT MEET THE CONDITION"
   ]
  },
  {
   "cell_type": "code",
   "execution_count": 73,
   "id": "458628f7",
   "metadata": {},
   "outputs": [],
   "source": [
    "arr_2d = np.array([[1, 2, 3, 4], \n",
    "                   [5, 6, 7, 8],\n",
    "                   [9, 10, 11, 12]]) #2d array -> matrix"
   ]
  },
  {
   "cell_type": "code",
   "execution_count": 74,
   "id": "1c72e3c4",
   "metadata": {},
   "outputs": [
    {
     "name": "stdout",
     "output_type": "stream",
     "text": [
      "[[ True  True False False]\n",
      " [False False False False]\n",
      " [False False False False]]\n"
     ]
    }
   ],
   "source": [
    "print(arr_2d < 3)"
   ]
  },
  {
   "cell_type": "code",
   "execution_count": 75,
   "id": "d4587fa6",
   "metadata": {},
   "outputs": [
    {
     "name": "stdout",
     "output_type": "stream",
     "text": [
      "[1 2]\n"
     ]
    }
   ],
   "source": [
    "print(arr_2d[arr_2d < 3])"
   ]
  },
  {
   "cell_type": "code",
   "execution_count": 80,
   "id": "af23b604",
   "metadata": {},
   "outputs": [
    {
     "data": {
      "text/plain": [
       "array([[1, 1, 1, 0],\n",
       "       [0, 0, 0, 0],\n",
       "       [0, 0, 0, 0]])"
      ]
     },
     "execution_count": 80,
     "metadata": {},
     "output_type": "execute_result"
    }
   ],
   "source": [
    "np.where(arr_2d < 4, 1, 0) #if True -> 1 else 0"
   ]
  },
  {
   "cell_type": "markdown",
   "id": "62dbb6b2",
   "metadata": {},
   "source": [
    "**Why are Numpy Array so fast?:**"
   ]
  },
  {
   "cell_type": "code",
   "execution_count": 84,
   "id": "794d483a",
   "metadata": {},
   "outputs": [],
   "source": [
    "# 2D ndarray of shape (10000, 10000) with random float in [0, 1] interval. That's 100M numbers!\n",
    "A = np.random.rand(10000, 10000) #RANDOM RAND: Create an array of the given shape and populate it with random samples from a uniform distribution over [0, 1].\n",
    "a = A.tolist()"
   ]
  },
  {
   "cell_type": "code",
   "execution_count": 85,
   "id": "157798e3",
   "metadata": {},
   "outputs": [
    {
     "name": "stdout",
     "output_type": "stream",
     "text": [
      "Wall time: 19.5 s\n"
     ]
    },
    {
     "data": {
      "text/plain": [
       "49997715.57"
      ]
     },
     "execution_count": 85,
     "metadata": {},
     "output_type": "execute_result"
    }
   ],
   "source": [
    "%%time\n",
    "total = 0\n",
    "for row in a:\n",
    "    for n in row:\n",
    "        total += n\n",
    "round(total, 2)"
   ]
  },
  {
   "cell_type": "code",
   "execution_count": 86,
   "id": "66dbdb8e",
   "metadata": {},
   "outputs": [
    {
     "name": "stdout",
     "output_type": "stream",
     "text": [
      "Wall time: 310 ms\n"
     ]
    },
    {
     "data": {
      "text/plain": [
       "49997715.57"
      ]
     },
     "execution_count": 86,
     "metadata": {},
     "output_type": "execute_result"
    }
   ],
   "source": [
    "%%time\n",
    "round(np.sum(A), 2)"
   ]
  },
  {
   "cell_type": "markdown",
   "id": "6683a771",
   "metadata": {},
   "source": [
    "**Linear Algebra Operations:**"
   ]
  },
  {
   "cell_type": "markdown",
   "id": "b85e470d",
   "metadata": {},
   "source": [
    "**1D ARRAY:**"
   ]
  },
  {
   "cell_type": "code",
   "execution_count": 88,
   "id": "fef0543d",
   "metadata": {},
   "outputs": [],
   "source": [
    "#Array 1D operations"
   ]
  },
  {
   "cell_type": "code",
   "execution_count": 89,
   "id": "2d11d6af",
   "metadata": {},
   "outputs": [],
   "source": [
    "a= np.array([1,2,3])\n",
    "b= np.array([4,5,6])"
   ]
  },
  {
   "cell_type": "code",
   "execution_count": 91,
   "id": "4487d630",
   "metadata": {},
   "outputs": [
    {
     "data": {
      "text/plain": [
       "array([5, 7, 9])"
      ]
     },
     "execution_count": 91,
     "metadata": {},
     "output_type": "execute_result"
    }
   ],
   "source": [
    "a+b #addition"
   ]
  },
  {
   "cell_type": "code",
   "execution_count": 92,
   "id": "42f3bad9",
   "metadata": {},
   "outputs": [
    {
     "data": {
      "text/plain": [
       "array([-3, -3, -3])"
      ]
     },
     "execution_count": 92,
     "metadata": {},
     "output_type": "execute_result"
    }
   ],
   "source": [
    "a-b #subtraction"
   ]
  },
  {
   "cell_type": "code",
   "execution_count": 93,
   "id": "8a9ce613",
   "metadata": {},
   "outputs": [
    {
     "data": {
      "text/plain": [
       "array([3, 6, 9])"
      ]
     },
     "execution_count": 93,
     "metadata": {},
     "output_type": "execute_result"
    }
   ],
   "source": [
    "a*3 #scalar multiplication"
   ]
  },
  {
   "cell_type": "code",
   "execution_count": 95,
   "id": "df2d0464",
   "metadata": {},
   "outputs": [
    {
     "name": "stdout",
     "output_type": "stream",
     "text": [
      "0\n",
      "28\n"
     ]
    }
   ],
   "source": [
    "#Prodotto scalare:\n",
    "\n",
    "c= np.array([1,0]) \n",
    "d= np.array([0,1]) \n",
    "\n",
    "e= np.array([1,2,3])\n",
    "f= np.array([2,4,6]) #combinazione lineare dell'array e (e*2)\n",
    "\n",
    "#Dot product (prodotto scalare):\n",
    "\n",
    "print(np.dot(c,d)) # =0 -> prodotto scalare =0, perpendicolari, angolo = 90°\n",
    "print(np.dot(e,f)) # prodotto scalare positivo & !=0 -> angolo <90°"
   ]
  },
  {
   "cell_type": "markdown",
   "id": "89add6f0",
   "metadata": {},
   "source": [
    "**MATRIX OPERATIONS:**"
   ]
  },
  {
   "cell_type": "code",
   "execution_count": null,
   "id": "c6820e79",
   "metadata": {},
   "outputs": [],
   "source": [
    "#2D MATRIX OPERATIONS"
   ]
  },
  {
   "cell_type": "code",
   "execution_count": 96,
   "id": "a5a51660",
   "metadata": {},
   "outputs": [
    {
     "data": {
      "text/plain": [
       "array([[10, 20],\n",
       "       [30, 40]])"
      ]
     },
     "execution_count": 96,
     "metadata": {},
     "output_type": "execute_result"
    }
   ],
   "source": [
    "M_1 = np.array([[1, 2],  #square matrix 2x2\n",
    "                [3, 4]])\n",
    "\n",
    "#scalar multiplication\n",
    "\n",
    "M_1 * 10"
   ]
  },
  {
   "cell_type": "code",
   "execution_count": 97,
   "id": "ad1d314d",
   "metadata": {},
   "outputs": [
    {
     "name": "stdout",
     "output_type": "stream",
     "text": [
      "[[ 6  8]\n",
      " [10 12]]\n"
     ]
    }
   ],
   "source": [
    "#ARITHMETIC OPERATIONS ON MATRICES \n",
    "\n",
    "M_1 = np.array([[1, 2],  #square matrix 2x2\n",
    "                [3, 4]])\n",
    "      \n",
    "M_2 = np.array([[5, 6],  #square matrix 2x2\n",
    "                [7, 8]])\n",
    "\n",
    "print(M_1 + M_2)"
   ]
  },
  {
   "cell_type": "code",
   "execution_count": 98,
   "id": "d65cd40b",
   "metadata": {},
   "outputs": [
    {
     "name": "stdout",
     "output_type": "stream",
     "text": [
      "[[19 22]\n",
      " [43 50]]\n"
     ]
    }
   ],
   "source": [
    "#PRODOTTO MATRICIALE\n",
    "\n",
    "M_1 = np.array([[1, 2],  #square matrix 2x2\n",
    "                [3, 4]])\n",
    "      \n",
    "M_2 = np.array([[5, 6],  #square matrix 2x2\n",
    "                [7, 8]])\n",
    "\n",
    "print(np.dot(M_1,M_2))   #OUTPUT : square matrix 2x2"
   ]
  },
  {
   "cell_type": "code",
   "execution_count": 99,
   "id": "cc7a54b1",
   "metadata": {},
   "outputs": [
    {
     "name": "stdout",
     "output_type": "stream",
     "text": [
      "[[40 46]\n",
      " [22 25]]\n"
     ]
    }
   ],
   "source": [
    "M_1= np.array([[1,2,3], #2x3\n",
    "               [0,1,2]]) \n",
    "\n",
    "M_2= np.array([[4,5],   #3x2\n",
    "               [6,7],\n",
    "               [8,9]])\n",
    "\n",
    "print(np.dot(M_1,M_2))  #OUTPUT square matrix: 2x2"
   ]
  },
  {
   "cell_type": "code",
   "execution_count": 100,
   "id": "06683180",
   "metadata": {},
   "outputs": [
    {
     "data": {
      "text/plain": [
       "array([[40, 46],\n",
       "       [22, 25]])"
      ]
     },
     "execution_count": 100,
     "metadata": {},
     "output_type": "execute_result"
    }
   ],
   "source": [
    "M_1 @ M_2 # @ -> another option"
   ]
  },
  {
   "cell_type": "markdown",
   "id": "ef3f509d",
   "metadata": {},
   "source": [
    "# System of linear equations"
   ]
  },
  {
   "cell_type": "markdown",
   "id": "1582a17d",
   "metadata": {},
   "source": [
    "A system of linear equations (or linear system) is a collection of one or more linear equations involving the same set of variables."
   ]
  },
  {
   "cell_type": "markdown",
   "id": "e72abbb8",
   "metadata": {},
   "source": [
    "<img src=\"https://miro.medium.com/max/1400/1*6LRv9DMK9hXvwm5JVpTQuA.png\" alt=\"500\" width=\"600\" align=\"left\"/>"
   ]
  },
  {
   "cell_type": "code",
   "execution_count": 101,
   "id": "41d49a7f",
   "metadata": {},
   "outputs": [],
   "source": [
    "#Abbiamo un chiosco allo stadio dove vendiamo:\n",
    "\n",
    "#Hot dogs cost €1.50\n",
    "#Coca Cola cost €0.50\n",
    "#Made a total of €78.50\n",
    "#Sold 87 hot dogs and Coca Cola combined\n",
    "\n",
    "#How many Hot Dogs(x) and Coca Cola(y) have been sold?"
   ]
  },
  {
   "cell_type": "code",
   "execution_count": 102,
   "id": "6e89817d",
   "metadata": {},
   "outputs": [],
   "source": [
    "# 1.50x + 0.50y = 78.50  (Equation related to cost)\n",
    "\n",
    "# x + y = 87   (Equation related to the number sold)"
   ]
  },
  {
   "cell_type": "code",
   "execution_count": 103,
   "id": "9eaca80f",
   "metadata": {},
   "outputs": [],
   "source": [
    "a= np.array([[1.50, 0.5], #MATRICE COEFFICIENTI\n",
    "             [1, 1]])\n",
    "\n",
    "b= np.array([[78.50], #MATRICE TERMINI NOTI\n",
    "              [87]])"
   ]
  },
  {
   "cell_type": "code",
   "execution_count": 112,
   "id": "2c63d70b",
   "metadata": {},
   "outputs": [],
   "source": [
    "#Calculate inverse of A\n",
    "\n",
    "inv_a= np.linalg.inv(a)"
   ]
  },
  {
   "cell_type": "code",
   "execution_count": 113,
   "id": "deb968f5",
   "metadata": {},
   "outputs": [
    {
     "data": {
      "text/plain": [
       "array([[1.00000000e+00, 0.00000000e+00],\n",
       "       [1.11022302e-16, 1.00000000e+00]])"
      ]
     },
     "execution_count": 113,
     "metadata": {},
     "output_type": "execute_result"
    }
   ],
   "source": [
    "ID= a @ inv_a  #identity matrix\n",
    "ID"
   ]
  },
  {
   "cell_type": "code",
   "execution_count": 114,
   "id": "ecadbbe2",
   "metadata": {},
   "outputs": [
    {
     "data": {
      "text/plain": [
       "array([[1., 0.],\n",
       "       [0., 1.]])"
      ]
     },
     "execution_count": 114,
     "metadata": {},
     "output_type": "execute_result"
    }
   ],
   "source": [
    "ID_2= np.eye(2)\n",
    "ID_2"
   ]
  },
  {
   "cell_type": "code",
   "execution_count": 115,
   "id": "f440cf34",
   "metadata": {},
   "outputs": [
    {
     "data": {
      "text/plain": [
       "True"
      ]
     },
     "execution_count": 115,
     "metadata": {},
     "output_type": "execute_result"
    }
   ],
   "source": [
    "np.allclose(ID, ID_2) #confrontiamo le 2 matrici identità solo per sicurezza."
   ]
  },
  {
   "cell_type": "code",
   "execution_count": 117,
   "id": "a4c3165a",
   "metadata": {},
   "outputs": [
    {
     "data": {
      "text/plain": [
       "array([[35.],\n",
       "       [52.]])"
      ]
     },
     "execution_count": 117,
     "metadata": {},
     "output_type": "execute_result"
    }
   ],
   "source": [
    "X= inv_a @ b #matrice delle Soluzioni (valori incognite)\n",
    "X"
   ]
  },
  {
   "cell_type": "code",
   "execution_count": null,
   "id": "17a3cb39",
   "metadata": {},
   "outputs": [],
   "source": [
    "print(\"Hello\")"
   ]
  },
  {
   "cell_type": "code",
   "execution_count": 118,
   "id": "ad522bf3",
   "metadata": {},
   "outputs": [
    {
     "data": {
      "text/plain": [
       "array([[35.],\n",
       "       [52.]])"
      ]
     },
     "execution_count": 118,
     "metadata": {},
     "output_type": "execute_result"
    }
   ],
   "source": [
    "#Built in function -> linalg.solve() -> DIRETTAMENTE MATRICE SOLUZIONI\n",
    "\n",
    "np.linalg.solve(a, b)"
   ]
  },
  {
   "cell_type": "markdown",
   "id": "c2186411",
   "metadata": {},
   "source": [
    "<img src=\"https://media.istockphoto.com/vectors/congratulations-greeting-sign-congrats-graduated-vector-id1148641884?k=20&m=1148641884&s=170667a&w=0&h=UZvEyiD5nxDJiLz5n0i1jdvWn-MR6wt1nomiPV1wSDE=\" alt=\"400\" width=\"500\" align=\"left\"/>"
   ]
  }
 ],
 "metadata": {
  "kernelspec": {
   "display_name": "Python 3 (ipykernel)",
   "language": "python",
   "name": "python3"
  },
  "language_info": {
   "codemirror_mode": {
    "name": "ipython",
    "version": 3
   },
   "file_extension": ".py",
   "mimetype": "text/x-python",
   "name": "python",
   "nbconvert_exporter": "python",
   "pygments_lexer": "ipython3",
   "version": "3.9.7"
  }
 },
 "nbformat": 4,
 "nbformat_minor": 5
}
