{
 "cells": [
  {
   "cell_type": "markdown",
   "id": "e4611f38",
   "metadata": {},
   "source": [
    "# Python Tutorial: Base/Intermediate \n",
    "\n",
    "***by Loris Liusso***"
   ]
  },
  {
   "cell_type": "markdown",
   "id": "052bbf66",
   "metadata": {},
   "source": [
    "<img src=\"https://logos-world.net/wp-content/uploads/2021/10/Python-Symbol.png\" alt=\"300\" width=\"300\" align=\"left\"/>"
   ]
  },
  {
   "cell_type": "markdown",
   "id": "fe04c0b8",
   "metadata": {},
   "source": [
    "**First Program:** (Stampiamo una stringa: 'Hello World!')"
   ]
  },
  {
   "cell_type": "code",
   "execution_count": null,
   "id": "c0c4ee66",
   "metadata": {},
   "outputs": [],
   "source": [
    "print('Hello World!')"
   ]
  },
  {
   "cell_type": "markdown",
   "id": "f8d1901a",
   "metadata": {},
   "source": [
    "## Comments"
   ]
  },
  {
   "cell_type": "code",
   "execution_count": null,
   "id": "cbacdce1",
   "metadata": {},
   "outputs": [],
   "source": [
    "#Questo è il mio primo commento!"
   ]
  },
  {
   "cell_type": "markdown",
   "id": "7b80c8ce",
   "metadata": {},
   "source": [
    "## Python Arithmetic Operators"
   ]
  },
  {
   "cell_type": "code",
   "execution_count": null,
   "id": "ed153c55",
   "metadata": {},
   "outputs": [],
   "source": [
    "#ADDITION\n",
    "\n",
    "print(5+2)"
   ]
  },
  {
   "cell_type": "code",
   "execution_count": null,
   "id": "832acdc5",
   "metadata": {},
   "outputs": [],
   "source": [
    "#SUBTRACTION\n",
    "\n",
    "print(5-2)"
   ]
  },
  {
   "cell_type": "code",
   "execution_count": null,
   "id": "a8275c42",
   "metadata": {},
   "outputs": [],
   "source": [
    "#MULTIPLICATION\n",
    "\n",
    "print(5*2)"
   ]
  },
  {
   "cell_type": "code",
   "execution_count": null,
   "id": "4e9d510b",
   "metadata": {},
   "outputs": [],
   "source": [
    "#DIVISION\n",
    "\n",
    "print(5/2)"
   ]
  },
  {
   "cell_type": "code",
   "execution_count": null,
   "id": "26c73d67",
   "metadata": {},
   "outputs": [],
   "source": [
    "#EXPONENTIAL\n",
    "\n",
    "print(5**2)"
   ]
  },
  {
   "cell_type": "code",
   "execution_count": null,
   "id": "6ced3d03",
   "metadata": {},
   "outputs": [],
   "source": [
    "#MODULUS\n",
    "\n",
    "print(5%2)"
   ]
  },
  {
   "cell_type": "code",
   "execution_count": null,
   "id": "381c4a14",
   "metadata": {},
   "outputs": [],
   "source": [
    "#FLOOR DIVISION\n",
    "\n",
    "print(5//2)"
   ]
  },
  {
   "cell_type": "markdown",
   "id": "66d49f44",
   "metadata": {},
   "source": [
    "### INTEGER VS FLOAT"
   ]
  },
  {
   "cell_type": "code",
   "execution_count": null,
   "id": "b2da13b5",
   "metadata": {},
   "outputs": [],
   "source": [
    "print(type(10))"
   ]
  },
  {
   "cell_type": "code",
   "execution_count": null,
   "id": "d52ed63d",
   "metadata": {},
   "outputs": [],
   "source": [
    "print(type(1.5))"
   ]
  },
  {
   "cell_type": "markdown",
   "id": "849bf966",
   "metadata": {},
   "source": [
    "## BOOLEAN LOGIC"
   ]
  },
  {
   "cell_type": "markdown",
   "id": "b34cec7e",
   "metadata": {},
   "source": [
    "**Boolean Values** : True / False"
   ]
  },
  {
   "cell_type": "markdown",
   "id": "70d154bd",
   "metadata": {},
   "source": [
    "Compare values: "
   ]
  },
  {
   "cell_type": "code",
   "execution_count": null,
   "id": "d29ed62a",
   "metadata": {},
   "outputs": [],
   "source": [
    "print(10 > 9) # > \n",
    "print(10 == 9) # == \n",
    "print(10 < 9) # <"
   ]
  },
  {
   "cell_type": "markdown",
   "id": "57f351fe",
   "metadata": {},
   "source": [
    "**Logical Operators:** AND / OR / NOT"
   ]
  },
  {
   "cell_type": "markdown",
   "id": "38a62b8c",
   "metadata": {},
   "source": [
    "<img src=\"https://simplycoding.in/wp-content/uploads/2021/06/boolean-algebra.jpg\" alt=\"300\" width=\"300\" align=\"left\"/>\n"
   ]
  },
  {
   "cell_type": "markdown",
   "id": "2fc0b4f2",
   "metadata": {},
   "source": [
    "**AND:**"
   ]
  },
  {
   "cell_type": "code",
   "execution_count": null,
   "id": "c9774766",
   "metadata": {},
   "outputs": [],
   "source": [
    "print(1>0 and 2>0) "
   ]
  },
  {
   "cell_type": "code",
   "execution_count": null,
   "id": "3b5ea921",
   "metadata": {},
   "outputs": [],
   "source": [
    "print(0>1 and 2>1)"
   ]
  },
  {
   "cell_type": "markdown",
   "id": "48a999dc",
   "metadata": {},
   "source": [
    "**OR:**"
   ]
  },
  {
   "cell_type": "code",
   "execution_count": null,
   "id": "3815979e",
   "metadata": {},
   "outputs": [],
   "source": [
    "print(0>1 or 2>1)"
   ]
  },
  {
   "cell_type": "code",
   "execution_count": null,
   "id": "9dace057",
   "metadata": {},
   "outputs": [],
   "source": [
    "print(0>1 or 1>1)"
   ]
  },
  {
   "cell_type": "markdown",
   "id": "19f83bd9",
   "metadata": {},
   "source": [
    "**NOT:**"
   ]
  },
  {
   "cell_type": "code",
   "execution_count": null,
   "id": "5ca307b4",
   "metadata": {},
   "outputs": [],
   "source": [
    "print(not 1>0)"
   ]
  },
  {
   "cell_type": "markdown",
   "id": "bc9969c8",
   "metadata": {},
   "source": [
    "# VARIABLES"
   ]
  },
  {
   "cell_type": "markdown",
   "id": "c59959c0",
   "metadata": {},
   "source": [
    "<img src=\"https://miro.medium.com/max/1400/1*Px7h03Ih7B5QZu4KQpSEoQ.png\" alt=\"300\" width=\"300\" align=\"left\"/>\n"
   ]
  },
  {
   "cell_type": "code",
   "execution_count": null,
   "id": "a1eacc6f",
   "metadata": {},
   "outputs": [],
   "source": [
    "variabile= 'Hello'"
   ]
  },
  {
   "cell_type": "code",
   "execution_count": null,
   "id": "1a1b4036",
   "metadata": {},
   "outputs": [],
   "source": [
    "print(variabile)"
   ]
  },
  {
   "cell_type": "code",
   "execution_count": null,
   "id": "a6c133b5",
   "metadata": {},
   "outputs": [],
   "source": [
    "frase= 'Ciao a tutti'\n",
    "numero= 10\n",
    "\n",
    "print(frase)\n",
    "print(numero)"
   ]
  },
  {
   "cell_type": "markdown",
   "id": "c6474eb0",
   "metadata": {},
   "source": [
    "**Programmino Area Rettangolo**:"
   ]
  },
  {
   "cell_type": "code",
   "execution_count": null,
   "id": "935a0871",
   "metadata": {},
   "outputs": [],
   "source": [
    "base= 10\n",
    "altezza= 5\n",
    "\n",
    "print(base*altezza)"
   ]
  },
  {
   "cell_type": "markdown",
   "id": "08c35b67",
   "metadata": {},
   "source": [
    "<h3>Rules for creating variables in Python:</h3>\n",
    "\n",
    "<ul>\n",
    "<li>A variable name must start with a letter or the underscore character.</li>\n",
    "<li>A variable name cannot start with a number.</li>\n",
    "<li>A variable name can only contain alpha-numeric characters and underscores (A-z, 0-9, and _ ).</li>\n",
    "<li>Variable names are case-sensitive (name, Name and NAME are three different variables).</li>\n",
    "<li>The reserved words(keywords) cannot be used naming the variable.</li>\n",
    "    <li> <strong>Keywords</strong>: ['False', 'None', 'True', 'and', 'as', 'assert', 'async', 'await', 'break', 'class', 'continue', 'def', 'del', 'elif', 'else', 'except', 'finally', 'for', 'from', 'global', 'if', 'import', 'in', 'is', 'lambda', 'nonlocal', 'not', 'or', 'pass', 'raise', 'return', 'try', 'while', 'with', 'yield']</li>\n",
    "    \n",
    "<ul>"
   ]
  },
  {
   "cell_type": "code",
   "execution_count": null,
   "id": "6d769157",
   "metadata": {},
   "outputs": [],
   "source": [
    "#Case sensitive\n",
    "\n",
    "a=10\n",
    "A=20\n",
    "print(a)\n",
    "print(A)"
   ]
  },
  {
   "cell_type": "markdown",
   "id": "49930de3",
   "metadata": {},
   "source": [
    "## Strings"
   ]
  },
  {
   "cell_type": "markdown",
   "id": "c377365a",
   "metadata": {},
   "source": [
    "<img src=\"https://files.realpython.com/media/Strings-and-Character-Data-in-Python_Watermarked.296b2b518ae5.jpg\" alt=\"300\" width=\"300\" align=\"left\"/>\n"
   ]
  },
  {
   "cell_type": "markdown",
   "id": "45148086",
   "metadata": {},
   "source": [
    "<h1>Strings are Arrays</h1>\n",
    "\n",
    "Like many other popular programming languages, **strings in Python are arrays of bytes representing unicode characters.**\n",
    "\n",
    "However, Python does not have a character data type, a single character is simply a string with a length of 1.\n",
    "\n",
    "Square brackets can be used to access elements of the string."
   ]
  },
  {
   "cell_type": "code",
   "execution_count": null,
   "id": "ca58e822",
   "metadata": {},
   "outputs": [],
   "source": [
    "char= 'P'\n",
    "print(char)"
   ]
  },
  {
   "cell_type": "code",
   "execution_count": null,
   "id": "1a6a7f7a",
   "metadata": {},
   "outputs": [],
   "source": [
    "empty_string= '' #stringa vuota\n",
    "\n",
    "print(empty_string)"
   ]
  },
  {
   "cell_type": "code",
   "execution_count": null,
   "id": "5da710c7",
   "metadata": {},
   "outputs": [],
   "source": [
    "frase= 'Hello World!'\n",
    "\n",
    "print(type(frase))"
   ]
  },
  {
   "cell_type": "code",
   "execution_count": null,
   "id": "ecd76290",
   "metadata": {},
   "outputs": [],
   "source": [
    "a= 'Hello World!' #apice singolo\n",
    "b= \"Hello World!\" #apice doppio\n",
    "c= '''Hello \n",
    "World!''' #stringa multilinea\n",
    "\n",
    "print(a)\n",
    "print(b)\n",
    "print(c)"
   ]
  },
  {
   "cell_type": "markdown",
   "id": "f4611b03",
   "metadata": {},
   "source": [
    "**Escape character:**"
   ]
  },
  {
   "cell_type": "code",
   "execution_count": null,
   "id": "7cce037c",
   "metadata": {},
   "outputs": [],
   "source": [
    "frase= \" 'Essere o non essere' \"\n",
    "print(frase)"
   ]
  },
  {
   "cell_type": "code",
   "execution_count": null,
   "id": "7bc8f8ec",
   "metadata": {},
   "outputs": [],
   "source": [
    "frase= ' \\'Essere o non essere\\' ' #backslash before single or double quote (escape character)\n",
    "print(frase)"
   ]
  },
  {
   "cell_type": "markdown",
   "id": "fc906a6d",
   "metadata": {},
   "source": [
    "**Concatenation:**"
   ]
  },
  {
   "cell_type": "code",
   "execution_count": null,
   "id": "155eb359",
   "metadata": {},
   "outputs": [],
   "source": [
    "a= 'Ciao'\n",
    "b= 'Marco'\n",
    "\n",
    "print(a + ' ' + b)"
   ]
  },
  {
   "cell_type": "markdown",
   "id": "46875e54",
   "metadata": {},
   "source": [
    "**Interpolation:** Nuovo metodo più utilizzato!"
   ]
  },
  {
   "cell_type": "code",
   "execution_count": null,
   "id": "4c0a1495",
   "metadata": {},
   "outputs": [],
   "source": [
    "#metodo con conversione\n",
    "\n",
    "anno=2022\n",
    "print('Siamo nell\\'anno' + ' ' + str(anno))"
   ]
  },
  {
   "cell_type": "code",
   "execution_count": null,
   "id": "dfa09064",
   "metadata": {},
   "outputs": [],
   "source": [
    "#vecchio metodo con format\n",
    "\n",
    "print('Siamo nell\\'anno {}'.format(anno))"
   ]
  },
  {
   "cell_type": "code",
   "execution_count": null,
   "id": "7e471da8",
   "metadata": {},
   "outputs": [],
   "source": [
    "#nuovo metodo\n",
    "\n",
    "anno=2022\n",
    "\n",
    "print( f'Siamo nell\\'anno {anno}')"
   ]
  },
  {
   "cell_type": "markdown",
   "id": "dc9bab38",
   "metadata": {},
   "source": [
    "**SLICING:**"
   ]
  },
  {
   "cell_type": "markdown",
   "id": "c58788db",
   "metadata": {},
   "source": [
    "<img src=\"https://i1.faceprep.in/Companies-1/string-slicing-in-python.png\" alt=\"300\" width=\"300\" align=\"left\"/>\n"
   ]
  },
  {
   "cell_type": "code",
   "execution_count": null,
   "id": "b86c4502",
   "metadata": {},
   "outputs": [],
   "source": [
    "frase= 'Hello World!'\n",
    "\n",
    "# H -> primo carattere\n",
    "\n",
    "print(frase[0])"
   ]
  },
  {
   "cell_type": "code",
   "execution_count": null,
   "id": "37101a36",
   "metadata": {},
   "outputs": [],
   "source": [
    "#! -> ultimo carattere\n",
    "\n",
    "print(frase[11])"
   ]
  },
  {
   "cell_type": "code",
   "execution_count": null,
   "id": "ee1c1365",
   "metadata": {},
   "outputs": [],
   "source": [
    "print(frase[-1]) #ultimo carattere usando indice negativo"
   ]
  },
  {
   "cell_type": "markdown",
   "id": "b8fccfb9",
   "metadata": {},
   "source": [
    "**Substring:**"
   ]
  },
  {
   "cell_type": "code",
   "execution_count": null,
   "id": "99a8cb4e",
   "metadata": {},
   "outputs": [],
   "source": [
    "#Prendiamo solo la parola: 'Hello' -> START : STOP (ultimo indice +1 per includerlo)\n",
    "\n",
    "print(frase[0:5])"
   ]
  },
  {
   "cell_type": "code",
   "execution_count": null,
   "id": "4e48efb3",
   "metadata": {},
   "outputs": [],
   "source": [
    "#length (lunghezza stringa (da quanti caratteri è formata))\n",
    "\n",
    "print(len(frase))"
   ]
  },
  {
   "cell_type": "markdown",
   "id": "fbc3a6ba",
   "metadata": {},
   "source": [
    "<h3>STRING BUILT-IN METHODS:</h3>\n",
    "\n",
    "Metodi già scritti in Python per la classe stringa. "
   ]
  },
  {
   "cell_type": "code",
   "execution_count": null,
   "id": "183a37c5",
   "metadata": {},
   "outputs": [],
   "source": [
    "frase= 'Hello World!'"
   ]
  },
  {
   "cell_type": "code",
   "execution_count": null,
   "id": "1c18c340",
   "metadata": {},
   "outputs": [],
   "source": [
    "#lowercase\n",
    "\n",
    "print(frase.lower() )"
   ]
  },
  {
   "cell_type": "code",
   "execution_count": null,
   "id": "dcb40d0a",
   "metadata": {},
   "outputs": [],
   "source": [
    "#uppercase\n",
    "\n",
    "print(frase.upper())"
   ]
  },
  {
   "cell_type": "code",
   "execution_count": null,
   "id": "a5ee7d28",
   "metadata": {},
   "outputs": [],
   "source": [
    "#replace characters\n",
    "\n",
    "print(frase.replace('!', '?'))"
   ]
  },
  {
   "cell_type": "code",
   "execution_count": null,
   "id": "ea8fd286",
   "metadata": {},
   "outputs": [],
   "source": [
    "#number of specific characters\n",
    "\n",
    "print(frase.count('l'))"
   ]
  },
  {
   "cell_type": "markdown",
   "id": "672ad9e2",
   "metadata": {},
   "source": [
    "## PYTHON LISTS\n",
    "\n",
    "**Lists are used to store multiple items in a single variable.**\n",
    "\n",
    "Lists are one of 4 built-in data types in Python used to store collections of data, the other 3 are Tuple, Set, and Dictionary, all with different qualities and usage.\n",
    "\n",
    "**Lists are created using square brackets [] :**"
   ]
  },
  {
   "cell_type": "markdown",
   "id": "3466bb41",
   "metadata": {},
   "source": [
    "<img src=\"https://pynative.com/wp-content/uploads/2021/03/python-list.jpg\" alt=\"350\" width=\"400\" align=\"left\"/>\n"
   ]
  },
  {
   "cell_type": "code",
   "execution_count": null,
   "id": "268e9e3f",
   "metadata": {},
   "outputs": [],
   "source": [
    "empty_list= []\n",
    "\n",
    "print(empty_list)"
   ]
  },
  {
   "cell_type": "code",
   "execution_count": null,
   "id": "0dac7458",
   "metadata": {},
   "outputs": [],
   "source": [
    "print(type(empty_list))"
   ]
  },
  {
   "cell_type": "code",
   "execution_count": null,
   "id": "9c4162d0",
   "metadata": {},
   "outputs": [],
   "source": [
    "lista= ['a', 10, 'b', 'hello', 20]\n",
    "\n",
    "print(lista)\n",
    "print(len(lista))"
   ]
  },
  {
   "cell_type": "markdown",
   "id": "20b2256c",
   "metadata": {},
   "source": [
    "**Access Items & Slicing:**"
   ]
  },
  {
   "cell_type": "code",
   "execution_count": null,
   "id": "fdf57d2d",
   "metadata": {},
   "outputs": [],
   "source": [
    "print(lista[0])"
   ]
  },
  {
   "cell_type": "code",
   "execution_count": null,
   "id": "e88346c6",
   "metadata": {},
   "outputs": [],
   "source": [
    "print(lista[-1])"
   ]
  },
  {
   "cell_type": "code",
   "execution_count": null,
   "id": "c230f74a",
   "metadata": {},
   "outputs": [],
   "source": [
    "print(lista[0:2]) #list of first 2 elements"
   ]
  },
  {
   "cell_type": "markdown",
   "id": "45d80a08",
   "metadata": {},
   "source": [
    "**Add item to a list:**"
   ]
  },
  {
   "cell_type": "code",
   "execution_count": null,
   "id": "14c34333",
   "metadata": {},
   "outputs": [],
   "source": [
    "lista= ['a', 10, 'b', 'hello', 20]\n",
    "\n",
    "#To add an item to the end of the list, use the append() method:\n",
    "\n",
    "lista.append(100)\n",
    "print(lista)"
   ]
  },
  {
   "cell_type": "code",
   "execution_count": null,
   "id": "f75140f1",
   "metadata": {},
   "outputs": [],
   "source": [
    "#To insert a list item at a specified index, use the insert() method.\n",
    "\n",
    "lista.insert(0,'ciao')\n",
    "print(lista)"
   ]
  },
  {
   "cell_type": "markdown",
   "id": "de06956e",
   "metadata": {},
   "source": [
    "**Remove elements:**\n",
    "\n",
    "2 MAIN METHODS:"
   ]
  },
  {
   "cell_type": "code",
   "execution_count": null,
   "id": "8699f66c",
   "metadata": {},
   "outputs": [],
   "source": [
    "#first method\n",
    "\n",
    "lista.remove(\"a\")\n",
    "print(lista)"
   ]
  },
  {
   "cell_type": "code",
   "execution_count": null,
   "id": "a8dfee81",
   "metadata": {},
   "outputs": [],
   "source": [
    "#second method \n",
    "\n",
    "del lista[0]\n",
    "print(lista)"
   ]
  },
  {
   "cell_type": "code",
   "execution_count": null,
   "id": "c1eb90d9",
   "metadata": {},
   "outputs": [],
   "source": [
    "#change elements\n",
    "\n",
    "lista[0]=1\n",
    "print(lista)"
   ]
  },
  {
   "cell_type": "markdown",
   "id": "b7326335",
   "metadata": {},
   "source": [
    "<h3> Other Built-in Methods </h3>"
   ]
  },
  {
   "cell_type": "code",
   "execution_count": null,
   "id": "b6efc331",
   "metadata": {},
   "outputs": [],
   "source": [
    "lista= [0,2,1,4,3]"
   ]
  },
  {
   "cell_type": "code",
   "execution_count": null,
   "id": "4934105d",
   "metadata": {},
   "outputs": [],
   "source": [
    "#Reverse list\n",
    "\n",
    "lista.reverse()\n",
    "print(lista)"
   ]
  },
  {
   "cell_type": "code",
   "execution_count": null,
   "id": "e2aa3c8d",
   "metadata": {},
   "outputs": [],
   "source": [
    "#Sort list\n",
    "\n",
    "lista.sort()\n",
    "print(lista)"
   ]
  },
  {
   "cell_type": "markdown",
   "id": "98ad9a5e",
   "metadata": {},
   "source": [
    "<h3>Rivediamo: </h3>"
   ]
  },
  {
   "cell_type": "code",
   "execution_count": null,
   "id": "6e7c1a00",
   "metadata": {},
   "outputs": [],
   "source": [
    "lista= [['a','b'], [1,2], [5,'c']]\n",
    "\n",
    "print(len(lista))"
   ]
  },
  {
   "cell_type": "code",
   "execution_count": null,
   "id": "a961495f",
   "metadata": {},
   "outputs": [],
   "source": [
    "#GET 'c' \n",
    "\n",
    "print( lista[2][1] )"
   ]
  },
  {
   "cell_type": "markdown",
   "id": "18eab461",
   "metadata": {},
   "source": [
    "## TUPLE "
   ]
  },
  {
   "cell_type": "markdown",
   "id": "88c82623",
   "metadata": {},
   "source": [
    "<img src=\"https://pynative.com/wp-content/uploads/2021/02/python-tuple.jpg\" alt=\"350\" width=\"400\" align=\"left\"/>\n"
   ]
  },
  {
   "cell_type": "code",
   "execution_count": null,
   "id": "e369b2f1",
   "metadata": {},
   "outputs": [],
   "source": [
    "tupla= (1 ,2, 'hello', True, 10)"
   ]
  },
  {
   "cell_type": "code",
   "execution_count": null,
   "id": "9851c671",
   "metadata": {},
   "outputs": [],
   "source": [
    "#We CAN'T change its values!\n",
    "\n",
    "tupla[0]=0"
   ]
  },
  {
   "cell_type": "code",
   "execution_count": null,
   "id": "6164d5c2",
   "metadata": {},
   "outputs": [],
   "source": [
    "tupla.append(0)"
   ]
  },
  {
   "cell_type": "markdown",
   "id": "3277a3b6",
   "metadata": {},
   "source": [
    "## SET"
   ]
  },
  {
   "cell_type": "markdown",
   "id": "db91a6b5",
   "metadata": {},
   "source": [
    "<img src=\"https://pynative.com/wp-content/uploads/2021/03/python-sets.jpg\" alt=\"350\" width=\"400\" align=\"left\"/>\n"
   ]
  },
  {
   "cell_type": "code",
   "execution_count": null,
   "id": "ff1397c5",
   "metadata": {},
   "outputs": [],
   "source": [
    "#A Set does not allow duplicates\n",
    "\n",
    "first_set= {1,2,1,'hello','hello'}\n",
    "print(first_set)"
   ]
  },
  {
   "cell_type": "markdown",
   "id": "bae39bd3",
   "metadata": {},
   "source": [
    "**Built in Methods: -> intersection(), union(), difference() ...**"
   ]
  },
  {
   "cell_type": "code",
   "execution_count": null,
   "id": "38b53e32",
   "metadata": {},
   "outputs": [],
   "source": [
    "set_1= {1,2,3}\n",
    "set_2= {3,4,5}\n",
    "\n",
    "print('Intersection: ', set_1.intersection(set_2))\n",
    "print('Union: ', set_1.union(set_2))\n",
    "print('Difference: ', set_1.difference(set_2))"
   ]
  },
  {
   "cell_type": "markdown",
   "id": "47d7492e",
   "metadata": {},
   "source": [
    "## DICTIONARIES\n",
    "\n",
    "Dictionaries are used to store data values in key:value pairs.\n",
    "\n",
    "A dictionary is a collection which is ordered*, changeable and do not allow duplicates."
   ]
  },
  {
   "cell_type": "markdown",
   "id": "509c3569",
   "metadata": {},
   "source": [
    "<img src=\"https://pynative.com/wp-content/uploads/2021/02/dictionaries-in-python.jpg\" alt=\"350\" width=\"400\" align=\"left\"/>\n"
   ]
  },
  {
   "cell_type": "code",
   "execution_count": null,
   "id": "f1e4401a",
   "metadata": {},
   "outputs": [],
   "source": [
    "dictionary= {'Marco': 9, 'Paola':10, 'Davide':5, 'Giulia':7}"
   ]
  },
  {
   "cell_type": "markdown",
   "id": "ff58cb05",
   "metadata": {},
   "source": [
    "**Access dictionary values:**"
   ]
  },
  {
   "cell_type": "code",
   "execution_count": null,
   "id": "909c8332",
   "metadata": {},
   "outputs": [],
   "source": [
    "print(dictionary['Marco']) # get value"
   ]
  },
  {
   "cell_type": "markdown",
   "id": "38049809",
   "metadata": {},
   "source": [
    "**Get all items:**  .items()"
   ]
  },
  {
   "cell_type": "code",
   "execution_count": null,
   "id": "612d01de",
   "metadata": {},
   "outputs": [],
   "source": [
    "print(dictionary.items())"
   ]
  },
  {
   "cell_type": "markdown",
   "id": "d59fecb6",
   "metadata": {},
   "source": [
    "**Get all keys:**  .keys()"
   ]
  },
  {
   "cell_type": "code",
   "execution_count": null,
   "id": "eb6d5e93",
   "metadata": {},
   "outputs": [],
   "source": [
    "print(dictionary.keys())"
   ]
  },
  {
   "cell_type": "markdown",
   "id": "93c503cc",
   "metadata": {},
   "source": [
    "**Get all values:**  .values()"
   ]
  },
  {
   "cell_type": "code",
   "execution_count": null,
   "id": "11cac57d",
   "metadata": {},
   "outputs": [],
   "source": [
    "print(dictionary.values())"
   ]
  },
  {
   "cell_type": "markdown",
   "id": "43ddb486",
   "metadata": {},
   "source": [
    "**Change Values:**"
   ]
  },
  {
   "cell_type": "code",
   "execution_count": null,
   "id": "0bc47152",
   "metadata": {},
   "outputs": [],
   "source": [
    "dictionary[\"Davide\"] = 8 #update value\n",
    "print(dictionary)"
   ]
  },
  {
   "cell_type": "markdown",
   "id": "a97e1fe0",
   "metadata": {},
   "source": [
    "**Add items:**"
   ]
  },
  {
   "cell_type": "code",
   "execution_count": null,
   "id": "28b84ab0",
   "metadata": {},
   "outputs": [],
   "source": [
    "dictionary['Bob']=4 #add new item \n",
    "print(dictionary)"
   ]
  },
  {
   "cell_type": "markdown",
   "id": "d6f95d7c",
   "metadata": {},
   "source": [
    "**Remove items:**"
   ]
  },
  {
   "cell_type": "code",
   "execution_count": null,
   "id": "a1daf20d",
   "metadata": {},
   "outputs": [],
   "source": [
    "del dictionary[\"Bob\"]\n",
    "print(dictionary)"
   ]
  },
  {
   "cell_type": "markdown",
   "id": "08987584",
   "metadata": {},
   "source": [
    "## CONDITIONS: IF, ELIF, ELSE\n",
    "\n",
    "**Python supports the usual logical conditions from mathematics:**\n",
    "<ul>\n",
    "<li>Equals: a == b</li>\n",
    "<li>Not Equals: a != b</li>\n",
    "<li>Less than: a < b </li>\n",
    "<li>Less than or equal to: a <= b </li>\n",
    "<li>Greater than: a > b</li>\n",
    "<li>Greater than or equal to: a >= b</li>\n",
    "</ul>\n",
    "These conditions can be used in several ways, most commonly in \"if statements\" and loops.\n",
    "\n",
    "An \"if statement\" is written by using the if keyword."
   ]
  },
  {
   "cell_type": "markdown",
   "id": "0bf02772",
   "metadata": {},
   "source": [
    "<img src=\"https://files.realpython.com/media/Conditional-Statements-in-Python_Watermarked.9fe9d98a8558.jpg\" width='400' alt='400' align=\"left\"/>\n"
   ]
  },
  {
   "cell_type": "code",
   "execution_count": null,
   "id": "e5ccd962",
   "metadata": {},
   "outputs": [],
   "source": [
    "#BLOCCHI DI CODICE --> #indentazione (Per separare un blocco di istruzioni dalle altre)\n",
    "\n",
    "x= 1\n",
    "y= 0\n",
    "\n",
    "if x >= y: # 1>=0 ? \n",
    "    print('Maggiore!')  "
   ]
  },
  {
   "cell_type": "code",
   "execution_count": null,
   "id": "8ccc03fb",
   "metadata": {},
   "outputs": [],
   "source": [
    "if y >= x: # 0>=1 ?\n",
    "    print('Maggiore!')\n",
    "    \n",
    "else:\n",
    "    print('Minore!')"
   ]
  },
  {
   "cell_type": "code",
   "execution_count": null,
   "id": "94d5e82c",
   "metadata": {},
   "outputs": [],
   "source": [
    "x= 0\n",
    "y= 0\n",
    "\n",
    "if x > y: # 0>0 ?\n",
    "    print('Maggiore!')\n",
    "    \n",
    "elif x == y:\n",
    "    print('Uguali!')\n",
    "    \n",
    "else:\n",
    "    print('Minore!')"
   ]
  },
  {
   "cell_type": "markdown",
   "id": "70517b98",
   "metadata": {},
   "source": [
    "## LOOPS (WHILE / FOR)\n"
   ]
  },
  {
   "cell_type": "markdown",
   "id": "ba5c6677",
   "metadata": {},
   "source": [
    "### WHILE LOOP:\n",
    "\n",
    "With the while loop we can execute a set of statements as long as a condition is true.\n"
   ]
  },
  {
   "cell_type": "markdown",
   "id": "d06a5ee0",
   "metadata": {},
   "source": [
    "<img src=\"https://files.realpython.com/media/Python-while-Loops-Indefinite-Iteration_Watermarked.ef0b89ed9dae.jpg\" width='400' alt='400' align=\"left\"/>"
   ]
  },
  {
   "cell_type": "code",
   "execution_count": null,
   "id": "0b2affe0",
   "metadata": {},
   "outputs": [],
   "source": [
    "#iterazioni: possibilità di eseguire lo stesso blocco di codice due o più volte.\n",
    "\n",
    "#WHILE LOOP: numero di iterazioni non è noto fin dall'inizio.\n",
    "\n",
    "x=0\n",
    "\n",
    "\n",
    "while x<1:  #--> while True\n",
    "    print('Sono in loop!')\n",
    "    break"
   ]
  },
  {
   "cell_type": "code",
   "execution_count": null,
   "id": "a2870c52",
   "metadata": {},
   "outputs": [],
   "source": [
    "x=0\n",
    "\n",
    "while x<10:\n",
    "    print('Sono in loop!')\n",
    "    x+=1"
   ]
  },
  {
   "cell_type": "code",
   "execution_count": null,
   "id": "b2cd4db5",
   "metadata": {
    "scrolled": true
   },
   "outputs": [],
   "source": [
    "#Loop over elements of a list\n",
    "\n",
    "i=0\n",
    "lista= [1,2,3,4,5,6,7,8,9,10]\n",
    "\n",
    "while i<len(lista):\n",
    "    print(lista[i]) \n",
    "    i+=1"
   ]
  },
  {
   "cell_type": "code",
   "execution_count": null,
   "id": "81aa9d53",
   "metadata": {},
   "outputs": [],
   "source": [
    "lista= [1,2,3,4,5,6,7,8,9,10]\n",
    "\n",
    "while len(lista)!=0: # \"finchè la lista non diventa vuota\"\n",
    "    print(lista[0])\n",
    "    lista= lista[1:]\n",
    "    "
   ]
  },
  {
   "cell_type": "code",
   "execution_count": null,
   "id": "d0995cff",
   "metadata": {},
   "outputs": [],
   "source": [
    "#continue\n",
    "\n",
    "i=0\n",
    "lista= [1,2,3,4,5,6,7,8,9,10]\n",
    "\n",
    "while i<len(lista):\n",
    "    \n",
    "    if lista[i]==5:\n",
    "        i+=1\n",
    "        continue\n",
    "        \n",
    "    else:\n",
    "        print(lista[i])\n",
    "        i+=1"
   ]
  },
  {
   "cell_type": "markdown",
   "id": "d5be7665",
   "metadata": {},
   "source": [
    "## FOR LOOP:\n",
    "\n",
    "A for loop is used for iterating over a sequence (that is either a list, a tuple, a dictionary, a set, or a string).\n",
    "\n",
    "This is less like the for keyword in other programming languages, and works more like an iterator method as found in other object-orientated programming languages.\n",
    "\n",
    "With the for loop we can execute a set of statements, once for each item in a list, tuple, set etc."
   ]
  },
  {
   "cell_type": "markdown",
   "id": "03253c5f",
   "metadata": {},
   "source": [
    "<img src=\"https://files.realpython.com/media/Python-for-Loops-Definite-Iteration_Watermarked.b38126d495e1.jpg\" width='400' alt='400' align=\"left\"/>"
   ]
  },
  {
   "cell_type": "code",
   "execution_count": null,
   "id": "28250c02",
   "metadata": {},
   "outputs": [],
   "source": [
    "#FOR LOOP: numero di iterazioni è noto fin dall'inizio.\n",
    "\n",
    "word= 'Python'\n",
    "\n",
    "for char in word:\n",
    "    print(char)"
   ]
  },
  {
   "cell_type": "code",
   "execution_count": null,
   "id": "9a89b911",
   "metadata": {},
   "outputs": [],
   "source": [
    "fruits = [\"apple\", \"ananas\", \"cherry\"]\n",
    "for fruit in fruits:\n",
    "    print(fruit)"
   ]
  },
  {
   "cell_type": "markdown",
   "id": "2cc60eb7",
   "metadata": {},
   "source": [
    "## The range() Function\n",
    "\n",
    "To loop through a set of code a specified number of times, we can use the range() function. <br>\n",
    "<br>The range() function returns a sequence of numbers, starting from 0 by default, and increments by 1 (by default), and ends at a specified number."
   ]
  },
  {
   "cell_type": "code",
   "execution_count": null,
   "id": "7d58131e",
   "metadata": {},
   "outputs": [],
   "source": [
    "for n in range(10):\n",
    "    print(n)"
   ]
  },
  {
   "cell_type": "code",
   "execution_count": null,
   "id": "8f24c157",
   "metadata": {},
   "outputs": [],
   "source": [
    "for n in range(0, 10):\n",
    "    print(n)"
   ]
  },
  {
   "cell_type": "code",
   "execution_count": null,
   "id": "ca543477",
   "metadata": {},
   "outputs": [],
   "source": [
    "for n in range(0, 11, 2): #start-stop-stepover\n",
    "    print(n)"
   ]
  },
  {
   "cell_type": "code",
   "execution_count": null,
   "id": "4bc7f9f6",
   "metadata": {},
   "outputs": [],
   "source": [
    "#Write a for loop which print \"Hello \" plus each name in the list. i.e.: \"Hello Bob!\"\n",
    "\n",
    "lista= ['Marco', 'Paola', 'Bob', 'Giulia', 'Davide']\n",
    "\n",
    "for name in lista:\n",
    "    print(f'Hello {name}!')\n"
   ]
  },
  {
   "cell_type": "code",
   "execution_count": null,
   "id": "6e79ae37",
   "metadata": {},
   "outputs": [],
   "source": [
    "#Write a loop that counts the number of characters of a given string:\n",
    "\n",
    "#WHILE LOOP\n",
    "\n",
    "word= 'Arcobaleno' #-> length=10\n",
    "\n",
    "l=0\n",
    "\n",
    "while word!='':\n",
    "    l+=1\n",
    "    word= word[1:]\n",
    "    \n",
    "print('Lunghezza: ', l)"
   ]
  },
  {
   "cell_type": "code",
   "execution_count": null,
   "id": "aa00b1a6",
   "metadata": {},
   "outputs": [],
   "source": [
    "#LENGTH STRING WITH FOR LOOP\n",
    "\n",
    "word= 'Arcobaleno'\n",
    "\n",
    "l=0\n",
    "\n",
    "for char in word:\n",
    "    l+=1\n",
    "    \n",
    "print('Lunghezza: ', l)"
   ]
  },
  {
   "cell_type": "code",
   "execution_count": null,
   "id": "ad775ac5",
   "metadata": {},
   "outputs": [],
   "source": [
    "# Write a program that appends the square of each number to a new list.\n",
    "\n",
    "lista= [1,2,3,4,5]\n",
    "\n",
    "square_numbers= []\n",
    "\n",
    "for n in lista:\n",
    "    square_numbers.append(n**2)\n",
    "    \n",
    "print(square_numbers)"
   ]
  },
  {
   "cell_type": "code",
   "execution_count": null,
   "id": "7dbc1a51",
   "metadata": {},
   "outputs": [],
   "source": [
    "#LIST COMPREHENSION (ADVANCED) -> NEXT VIDEO!\n",
    "\n",
    "square_numbers= [n**2 for n in lista] #list comprehension\n",
    "print(square_numbers)"
   ]
  },
  {
   "cell_type": "markdown",
   "id": "c52ffd2a",
   "metadata": {},
   "source": [
    "## FUNCTIONS\n",
    "\n",
    "A function is a block of code which only runs when it is called.\n",
    "\n",
    "You can pass data, known as parameters, into a function.\n",
    "\n",
    "A function can return data as a result.\n",
    "\n",
    "**Le funzioni sono degli strumenti molto potenti che ci permettono di raggruppare degli insiemi di istruzioni per svolgere un compito specifico. Le funzioni possono accettare in input degli argomenti/parametri.**\n",
    "\n",
    "**Infine le funzioni ci restituranno un output come risultato della computazione delle istruzioni contenute all'interno.**"
   ]
  },
  {
   "cell_type": "markdown",
   "id": "6d57022e",
   "metadata": {},
   "source": [
    "<img src=\"https://editor.analyticsvidhya.com/uploads/98650python-functions-banner.png\" width='600' alt='600' align=\"left\"/>"
   ]
  },
  {
   "cell_type": "markdown",
   "id": "3e42c641",
   "metadata": {},
   "source": [
    "<h3> Creating a Function </h3>\n",
    "\n",
    "In Python a function is defined using the **def** keyword:"
   ]
  },
  {
   "cell_type": "code",
   "execution_count": null,
   "id": "5b8c25e2",
   "metadata": {},
   "outputs": [],
   "source": [
    "def saluta(nome):\n",
    "    return 'Hello '+ nome\n",
    "    \n",
    "print(saluta('Marco'))\n",
    "print(saluta('Loris'))"
   ]
  },
  {
   "cell_type": "code",
   "execution_count": null,
   "id": "3aae5961",
   "metadata": {},
   "outputs": [],
   "source": [
    "def somma(n1,n2):\n",
    "    return n1+n2\n",
    "\n",
    "print(somma(1440,2330))"
   ]
  },
  {
   "cell_type": "code",
   "execution_count": null,
   "id": "282fd29b",
   "metadata": {},
   "outputs": [],
   "source": [
    "def even_odd(n): #pari o dispari?\n",
    "    if n%2==0:\n",
    "        return 'Even'\n",
    "    return 'Odd'\n",
    "\n",
    "print(even_odd(3))"
   ]
  },
  {
   "cell_type": "code",
   "execution_count": null,
   "id": "8e173e6e",
   "metadata": {},
   "outputs": [],
   "source": [
    "def percentage_calculator(): #Percentage calculator (number, %) -> value  100  10% -> 10\n",
    "    \n",
    "    start= ''\n",
    "    \n",
    "    while start!='q':\n",
    "        \n",
    "        number= int(input('Qual\\'è il numero di partenza? '))\n",
    "        percentage= int(input('Qual\\'è la percentuale da calcolare? '))\n",
    "        value= (number*percentage) /100\n",
    "        \n",
    "        print('Il valore è: ', value)\n",
    "        start= input(\"Per terminare premi 'q' altrimenti premi un altro tasto per calcolare un altro numero \")\n",
    "        \n",
    "percentage_calculator()"
   ]
  },
  {
   "cell_type": "code",
   "execution_count": null,
   "id": "3495b579",
   "metadata": {},
   "outputs": [],
   "source": [
    "#Python program to check if a string is palindrome or not\n",
    "\n",
    "#Kayak (YES), Madam (YES), Alabama (NO)\n",
    "\n",
    "def palindrome(word): #True or False\n",
    "    \n",
    "    word= word.lower() #lowercased string\n",
    "    \n",
    "    if len(word)==0 or len(word)==1: #CASI BASE (LENGTH=0 OR LENGTH=1)\n",
    "        return True\n",
    "    \n",
    "    elif len(word)==2: #CASO LENGTH=2\n",
    "        if word[0]==word[1]:\n",
    "            return True\n",
    "        else:\n",
    "            return False\n",
    "        \n",
    "    else: #CASO LENGTH>2\n",
    "        for i in range(len(word)//2): # Es: kayak 01(2)35\n",
    "            if word[i]!=word[-(i+1)]:\n",
    "                return False\n",
    "\n",
    "        return True #FINE LOOP (arrivati qui tutti i caratteri sono stati controllati e sono risultati essere uguali) \n"
   ]
  },
  {
   "cell_type": "code",
   "execution_count": null,
   "id": "5138f8ec",
   "metadata": {},
   "outputs": [],
   "source": [
    "print(palindrome('Kayak'))\n",
    "print(palindrome('Madam'))\n",
    "print(palindrome('Alabama'))"
   ]
  },
  {
   "cell_type": "markdown",
   "id": "49e5f277",
   "metadata": {},
   "source": [
    "# CLASSES\n",
    "\n",
    "Python is an object oriented programming language.\n",
    "\n",
    "Almost everything in Python is an object, with its properties and methods.\n",
    "\n",
    "A Class is like an object constructor, or a \"blueprint\" for creating objects."
   ]
  },
  {
   "cell_type": "code",
   "execution_count": null,
   "id": "af88487d",
   "metadata": {},
   "outputs": [],
   "source": [
    "print(type(0))\n",
    "print(type(0.1))\n",
    "print(type(True))\n",
    "print(type(''))\n",
    "print(type([]))"
   ]
  },
  {
   "cell_type": "markdown",
   "id": "321acfa7",
   "metadata": {},
   "source": [
    "<img src=\"http://d1jnx9ba8s6j9r.cloudfront.net/blog/wp-content/uploads/2017/12/python-class-Edureka.png\" width='500' alt='500' align=\"left\"/>"
   ]
  },
  {
   "cell_type": "markdown",
   "id": "17032d40",
   "metadata": {},
   "source": [
    "# ESEMPIO: CLASSE UMANO:\n",
    "    \n",
    "**ATTRIBUTI**: COLORE DEGLI OCCHI, COLORE DEI CAPELLI, ETÀ, ALTEZZA, PESO ETC\n",
    "\n",
    "**METODI**: MANGIARE, CAMMINARE, CORRERE, PARLARE ETC"
   ]
  },
  {
   "cell_type": "markdown",
   "id": "7278e027",
   "metadata": {},
   "source": [
    "## Create a Class\n",
    "\n",
    "To create a class, use the keyword **class**:"
   ]
  },
  {
   "cell_type": "code",
   "execution_count": 2,
   "id": "bed1df37",
   "metadata": {},
   "outputs": [],
   "source": [
    "class Hogwarts_students:\n",
    "    \n",
    "    \"This is a Hogwarts_students class\"\n",
    "    \n",
    "    def __init__(self, name, age, house): #class attributes\n",
    "        self.name = name\n",
    "        self.age = age\n",
    "        self.house= house #4 Case: Grifondoro,Serpeverde,Tassorosso,Corvonero\n",
    "\n",
    "\n",
    "    def greet(self): #class method\n",
    "        print('Hello!')\n",
    "        \n",
    "    def spell(self):\n",
    "        print('Expelliarmus!')"
   ]
  },
  {
   "cell_type": "markdown",
   "id": "310c7bc4",
   "metadata": {},
   "source": [
    "### Create Object\n",
    "Now we can use the class named MyClass to create objects:"
   ]
  },
  {
   "cell_type": "code",
   "execution_count": 4,
   "id": "5d1b376e",
   "metadata": {},
   "outputs": [],
   "source": [
    "harry= Hogwarts_students('Harry', 21, 'Gryffindor')\n",
    "hermione= Hogwarts_students('Hermione', 20, 'Gryffindor')\n",
    "ron= Hogwarts_students('Ron', 22, 'Gryffindor')\n",
    "draco= Hogwarts_students('Draco', 22, 'Slytherin')"
   ]
  },
  {
   "cell_type": "code",
   "execution_count": 5,
   "id": "f9a13c65",
   "metadata": {},
   "outputs": [
    {
     "name": "stdout",
     "output_type": "stream",
     "text": [
      "Harry 21 Gryffindor\n",
      "Hermione 20 Gryffindor\n",
      "Ron 22 Gryffindor\n",
      "Draco 22 Slytherin\n"
     ]
    }
   ],
   "source": [
    "print(harry.name, harry.age, harry.house)\n",
    "print(hermione.name, hermione.age, hermione.house)\n",
    "print(ron.name, ron.age, ron.house)\n",
    "print(draco.name, draco.age, draco.house)"
   ]
  },
  {
   "cell_type": "code",
   "execution_count": 6,
   "id": "6972fd9a",
   "metadata": {},
   "outputs": [
    {
     "name": "stdout",
     "output_type": "stream",
     "text": [
      "Hello!\n"
     ]
    }
   ],
   "source": [
    "harry.greet()"
   ]
  },
  {
   "cell_type": "code",
   "execution_count": 7,
   "id": "fdd6e5bd",
   "metadata": {},
   "outputs": [
    {
     "name": "stdout",
     "output_type": "stream",
     "text": [
      "Expelliarmus!\n"
     ]
    }
   ],
   "source": [
    "hermione.spell()"
   ]
  },
  {
   "cell_type": "markdown",
   "id": "d4fed77a",
   "metadata": {},
   "source": [
    "## Global attributes"
   ]
  },
  {
   "cell_type": "code",
   "execution_count": 24,
   "id": "8229e453",
   "metadata": {},
   "outputs": [],
   "source": [
    "class Hogwarts_students:\n",
    "    \"This is a Hogwarts_students class\"\n",
    "    #global attribute/variable\n",
    "    \n",
    "    house= 'Gryffindor'\n",
    "    \n",
    "    def __init__(self, name, age): #class attributes\n",
    "        self.name = name\n",
    "        self.age = age\n",
    "\n",
    "    def greet(self): #class method\n",
    "        print('Hello!')\n",
    "        \n",
    "    def spell(self):\n",
    "        print('Expelliarmus!')"
   ]
  },
  {
   "cell_type": "code",
   "execution_count": 25,
   "id": "c4acf462",
   "metadata": {},
   "outputs": [],
   "source": [
    "harry= Hogwarts_students('Harry', 21)\n",
    "hermione= Hogwarts_students('Hermione', 20)\n",
    "ron= Hogwarts_students('Ron', 22)"
   ]
  },
  {
   "cell_type": "code",
   "execution_count": 26,
   "id": "e52706a2",
   "metadata": {},
   "outputs": [
    {
     "data": {
      "text/plain": [
       "'Gryffindor'"
      ]
     },
     "execution_count": 26,
     "metadata": {},
     "output_type": "execute_result"
    }
   ],
   "source": [
    "harry.house"
   ]
  },
  {
   "cell_type": "markdown",
   "id": "a880c137",
   "metadata": {},
   "source": [
    "<img src=\"https://media.istockphoto.com/vectors/congratulations-greeting-sign-congrats-graduated-vector-id1148641884?k=20&m=1148641884&s=170667a&w=0&h=UZvEyiD5nxDJiLz5n0i1jdvWn-MR6wt1nomiPV1wSDE=\" width='500' alt='500' align=\"left\"/>"
   ]
  }
 ],
 "metadata": {
  "kernelspec": {
   "display_name": "Python 3 (ipykernel)",
   "language": "python",
   "name": "python3"
  },
  "language_info": {
   "codemirror_mode": {
    "name": "ipython",
    "version": 3
   },
   "file_extension": ".py",
   "mimetype": "text/x-python",
   "name": "python",
   "nbconvert_exporter": "python",
   "pygments_lexer": "ipython3",
   "version": "3.9.7"
  },
  "toc": {
   "base_numbering": 1,
   "nav_menu": {},
   "number_sections": true,
   "sideBar": true,
   "skip_h1_title": false,
   "title_cell": "Table of Contents",
   "title_sidebar": "Contents",
   "toc_cell": false,
   "toc_position": {},
   "toc_section_display": true,
   "toc_window_display": false
  }
 },
 "nbformat": 4,
 "nbformat_minor": 5
}
